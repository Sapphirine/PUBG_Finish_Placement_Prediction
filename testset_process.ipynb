{
 "cells": [
  {
   "cell_type": "code",
   "execution_count": 1,
   "metadata": {},
   "outputs": [],
   "source": [
    "# For autoreloading modules\n",
    "%load_ext autoreload\n",
    "%autoreload 2\n",
    "# For notebook plotting\n",
    "%matplotlib inline\n",
    "\n"
   ]
  },
  {
   "cell_type": "code",
   "execution_count": 2,
   "metadata": {},
   "outputs": [],
   "source": [
    "# Standard libraries\n",
    "import os\n",
    "import numpy as np\n",
    "import pandas as pd\n",
    "\n",
    "# Visualization\n",
    "import matplotlib.pyplot as plt\n",
    "import seaborn as sns\n",
    "from pdpbox import pdp\n",
    "from plotnine import *\n",
    "from pandas_summary import DataFrameSummary\n",
    "from sklearn.ensemble import RandomForestRegressor\n",
    "from IPython.display import display"
   ]
  },
  {
   "cell_type": "code",
   "execution_count": 3,
   "metadata": {},
   "outputs": [],
   "source": [
    "#test = pd.read_csv('data/test.csv')\n",
    "test = pd.read_csv('data/test.csv', sep=',')"
   ]
  },
  {
   "cell_type": "code",
   "execution_count": 4,
   "metadata": {},
   "outputs": [],
   "source": [
    "test['headshot_rate'] = test['headshotKills'] / test['kills']\n",
    "test['headshot_rate'] = test['headshot_rate'].fillna(0)"
   ]
  },
  {
   "cell_type": "code",
   "execution_count": 5,
   "metadata": {},
   "outputs": [],
   "source": [
    "test['boostsAndheals'] = test['boosts']+test['heals']"
   ]
  },
  {
   "cell_type": "code",
   "execution_count": 6,
   "metadata": {},
   "outputs": [],
   "source": [
    "test['totalDistance'] = test['rideDistance'] + test['walkDistance'] + test['swimDistance']"
   ]
  },
  {
   "cell_type": "code",
   "execution_count": null,
   "metadata": {},
   "outputs": [],
   "source": []
  },
  {
   "cell_type": "code",
   "execution_count": 7,
   "metadata": {},
   "outputs": [],
   "source": [
    "# test.drop(columns = ['Id'], inplace=True)\n",
    "test.drop(columns = ['groupId'], inplace=True)\n",
    "test.drop(columns = ['matchId'], inplace=True)"
   ]
  },
  {
   "cell_type": "code",
   "execution_count": 9,
   "metadata": {},
   "outputs": [],
   "source": [
    "def modifyMatchType(data):\n",
    "    data['matchType'][data['matchType'] == 'normal-solo'] = 'solo'\n",
    "    data['matchType'][data['matchType'] == 'solo-fpp'] = 'solo'\n",
    "    data['matchType'][data['matchType'] == 'normal-solo-fpp'] = 'solo'\n",
    "    data['matchType'][data['matchType'] == 'normal-duo-fpp'] = 'duo'\n",
    "    data['matchType'][data['matchType'] == 'normal-duo'] = 'duo'\n",
    "    data['matchType'][data['matchType'] == 'duo-fpp'] = 'duo'\n",
    "    data['matchType'][data['matchType'] == 'squad-fpp'] = 'squad'\n",
    "    data['matchType'][data['matchType'] == 'normal-squad'] = 'squad'\n",
    "    data['matchType'][data['matchType'] == 'normal-squad-fpp'] = 'squad'\n",
    "    data['matchType'][data['matchType'] == 'flaretpp'] = 'Other'\n",
    "    data['matchType'][data['matchType'] == 'flarefpp'] = 'Other'\n",
    "    data['matchType'][data['matchType'] == 'crashtpp'] = 'Other'\n",
    "    data['matchType'][data['matchType'] == 'crashfpp'] = 'Other'\n",
    "\n",
    "    return data\n",
    "\n",
    "test=modifyMatchType(test)"
   ]
  },
  {
   "cell_type": "code",
   "execution_count": 10,
   "metadata": {},
   "outputs": [],
   "source": [
    "solo_test = test[test['matchType']=='solo']\n",
    "duo_test = test[test['matchType']=='duo']\n",
    "squad_test = test[test['matchType']=='squad']"
   ]
  },
  {
   "cell_type": "code",
   "execution_count": 11,
   "metadata": {},
   "outputs": [
    {
     "name": "stdout",
     "output_type": "stream",
     "text": [
      "<class 'pandas.core.frame.DataFrame'>\n",
      "Int64Index: 313924 entries, 21 to 1934159\n",
      "Data columns (total 28 columns):\n",
      "assists            313924 non-null int64\n",
      "boosts             313924 non-null int64\n",
      "damageDealt        313924 non-null float64\n",
      "DBNOs              313924 non-null int64\n",
      "headshotKills      313924 non-null int64\n",
      "heals              313924 non-null int64\n",
      "killPlace          313924 non-null int64\n",
      "killPoints         313924 non-null int64\n",
      "kills              313924 non-null int64\n",
      "killStreaks        313924 non-null int64\n",
      "longestKill        313924 non-null float64\n",
      "matchDuration      313924 non-null int64\n",
      "matchType          313924 non-null object\n",
      "maxPlace           313924 non-null int64\n",
      "numGroups          313924 non-null int64\n",
      "rankPoints         313924 non-null int64\n",
      "revives            313924 non-null int64\n",
      "rideDistance       313924 non-null float64\n",
      "roadKills          313924 non-null int64\n",
      "swimDistance       313924 non-null float64\n",
      "teamKills          313924 non-null int64\n",
      "vehicleDestroys    313924 non-null int64\n",
      "walkDistance       313924 non-null float64\n",
      "weaponsAcquired    313924 non-null int64\n",
      "winPoints          313924 non-null int64\n",
      "headshot_rate      313924 non-null float64\n",
      "boostsAndheals     313924 non-null int64\n",
      "totalDistance      313924 non-null float64\n",
      "dtypes: float64(7), int64(20), object(1)\n",
      "memory usage: 69.5+ MB\n"
     ]
    }
   ],
   "source": [
    "solo_test.info()"
   ]
  },
  {
   "cell_type": "code",
   "execution_count": null,
   "metadata": {},
   "outputs": [],
   "source": [
    "testId_solo = solo_test['Id']\n",
    "testId_duo = duo_test['Id']\n",
    "testId_squad = squad_test['Id']\n",
    "\n"
   ]
  }
 ],
 "metadata": {
  "kernelspec": {
   "display_name": "Python 3",
   "language": "python",
   "name": "python3"
  },
  "language_info": {
   "codemirror_mode": {
    "name": "ipython",
    "version": 3
   },
   "file_extension": ".py",
   "mimetype": "text/x-python",
   "name": "python",
   "nbconvert_exporter": "python",
   "pygments_lexer": "ipython3",
   "version": "3.6.4"
  }
 },
 "nbformat": 4,
 "nbformat_minor": 2
}
